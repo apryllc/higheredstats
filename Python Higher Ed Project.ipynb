{
 "cells": [
  {
   "cell_type": "markdown",
   "metadata": {},
   "source": [
    "## Question:\n",
    "\n",
    "> Of the top 100 world ranked universities, does ranked quality of education at the top 25 result in higher alumni employment then the the bottom 25 universities?\n",
    "\n",
    "## Data Definitions:\n",
    "\n",
    ">__Quality of Education:__ measured by the number of a university's alumni who have won major international awards, prizes, and medals relative to the university's size (15%) \n",
    "\n",
    ">__Alumni Employment:__ measured by the number of a university's alumni who have held CEO positions at the world's top companies relative to the university's size (15%) "
   ]
  },
  {
   "cell_type": "code",
   "execution_count": 1,
   "metadata": {},
   "outputs": [],
   "source": [
    "import sqlite3\n",
    "import pandas as pd\n",
    "import matplotlib.pyplot as plt"
   ]
  },
  {
   "cell_type": "code",
   "execution_count": 2,
   "metadata": {},
   "outputs": [],
   "source": [
    "university_db = pd.read_csv('UniversityRanking.csv')"
   ]
  },
  {
   "cell_type": "code",
   "execution_count": 3,
   "metadata": {},
   "outputs": [],
   "source": [
    "# this creates the database\n",
    "university_db.to_sql('university_table', sqlite3.connect('university.db'), if_exists = 'replace')"
   ]
  },
  {
   "cell_type": "code",
   "execution_count": 4,
   "metadata": {
    "scrolled": true
   },
   "outputs": [
    {
     "name": "stdout",
     "output_type": "stream",
     "text": [
      "    world_rank                                      institution  \\\n",
      "0            1                               Harvard University   \n",
      "1            2                              Stanford University   \n",
      "2            3            Massachusetts Institute of Technology   \n",
      "3            4                          University of Cambridge   \n",
      "4            5                             University of Oxford   \n",
      "5            6                              Columbia University   \n",
      "6            7               University of California, Berkeley   \n",
      "7            8                            University of Chicago   \n",
      "8            9                             Princeton University   \n",
      "9           10                               Cornell University   \n",
      "10          11                                  Yale University   \n",
      "11          12               California Institute of Technology   \n",
      "12          13                              University of Tokyo   \n",
      "13          14                       University of Pennsylvania   \n",
      "14          15            University of California, Los Angeles   \n",
      "15          16                         Johns Hopkins University   \n",
      "16          17                                 Kyoto University   \n",
      "17          18                              New York University   \n",
      "18          19                University of Michigan, Ann Arbor   \n",
      "19          20  Swiss Federal Institute of Technology in Zurich   \n",
      "20          21              University of California, San Diego   \n",
      "21          22                          Northwestern University   \n",
      "22          23                   Hebrew University of Jerusalem   \n",
      "23          24                        Seoul National University   \n",
      "\n",
      "    alumni_employment  quality_of_education  \n",
      "0                   1                     1  \n",
      "1                   2                     9  \n",
      "2                  11                     3  \n",
      "3                  10                     2  \n",
      "4                  13                     7  \n",
      "5                   6                    13  \n",
      "6                  21                     5  \n",
      "7                  14                    11  \n",
      "8                  15                     4  \n",
      "9                  18                    12  \n",
      "10                 26                    10  \n",
      "11                328                     6  \n",
      "12                  3                    16  \n",
      "13                  4                    20  \n",
      "14                 27                    28  \n",
      "15                 84                    18  \n",
      "16                 16                    22  \n",
      "17                 22                    32  \n",
      "18                 17                    24  \n",
      "19                 64                    17  \n",
      "20                567                    36  \n",
      "21                 12                   163  \n",
      "22                164                    15  \n",
      "23                  9                   367  \n",
      "    world_rank                                        institution  \\\n",
      "0           75    University of Texas Southwestern Medical Center   \n",
      "1           76             Ruprecht Karl University of Heidelberg   \n",
      "2           77                           University of Notre Dame   \n",
      "3           78                                Tsinghua University   \n",
      "4           79             Ludwig Maximilian University of Munich   \n",
      "5           80                    Georgia Institute of Technology   \n",
      "6           81                            University of Rochester   \n",
      "7           82                     Katholieke Universiteit Leuven   \n",
      "8           83                                   Brown University   \n",
      "9           84                                   Emory University   \n",
      "10          85                       Erasmus University Rotterdam   \n",
      "11          86                                Tel Aviv University   \n",
      "12          87                                 Utrecht University   \n",
      "13          88                               University of Sydney   \n",
      "14          89                   University of California, Irvine   \n",
      "15          90      University of Texas MD Anderson Cancer Center   \n",
      "16          91  Swiss Federal Institute of Technology in Lausanne   \n",
      "17          92                               University of Geneva   \n",
      "18          93                            University of Melbourne   \n",
      "19          94                              King's College London   \n",
      "20          95                                   Tufts University   \n",
      "21          96                               University of Zurich   \n",
      "22          97                           Arizona State University   \n",
      "23          98                                  Yonsei University   \n",
      "24          99                                 University of Oslo   \n",
      "25         100                                  Kyushu University   \n",
      "\n",
      "    alumni_employment  quality_of_education  \n",
      "0                 567                    59  \n",
      "1                 402                    38  \n",
      "2                  24                   221  \n",
      "3                  73                   309  \n",
      "4                 129                    42  \n",
      "5                  60                   135  \n",
      "6                  53                    72  \n",
      "7                 202                   367  \n",
      "8                  43                    64  \n",
      "9                 146                   367  \n",
      "10                 46                   367  \n",
      "11                107                    77  \n",
      "12                199                    84  \n",
      "13                198                   105  \n",
      "14                567                   227  \n",
      "15                567                   367  \n",
      "16                 74                   367  \n",
      "17                191                    35  \n",
      "18                113                   141  \n",
      "19                190                    27  \n",
      "20                 48                    60  \n",
      "21                389                   115  \n",
      "22                455                   367  \n",
      "23                 45                   367  \n",
      "24                286                    53  \n",
      "25                 49                   367  \n"
     ]
    }
   ],
   "source": [
    "# this is a variable for the SQL connection\n",
    "connection = sqlite3.connect('university.db')\n",
    "# reading from SQL database\n",
    "unitop25_df = pd.read_sql_query('SELECT world_rank, institution, alumni_employment, quality_of_education FROM university_table WHERE world_rank < 25 AND year = 2015 ORDER BY world_rank', connection)\n",
    "print(unitop25_df)\n",
    "unibottom25_df = pd.read_sql_query('SELECT world_rank, institution, alumni_employment, quality_of_education FROM university_table WHERE world_rank BETWEEN 75 AND 100 AND year = 2015 ORDER BY world_rank', connection)\n",
    "print(unibottom25_df)"
   ]
  },
  {
   "cell_type": "code",
   "execution_count": null,
   "metadata": {},
   "outputs": [],
   "source": []
  },
  {
   "cell_type": "code",
   "execution_count": null,
   "metadata": {},
   "outputs": [],
   "source": []
  }
 ],
 "metadata": {
  "kernelspec": {
   "display_name": "Python 3",
   "language": "python",
   "name": "python3"
  },
  "language_info": {
   "codemirror_mode": {
    "name": "ipython",
    "version": 3
   },
   "file_extension": ".py",
   "mimetype": "text/x-python",
   "name": "python",
   "nbconvert_exporter": "python",
   "pygments_lexer": "ipython3",
   "version": "3.7.1"
  }
 },
 "nbformat": 4,
 "nbformat_minor": 2
}
